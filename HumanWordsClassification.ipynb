{
 "cells": [
  {
   "cell_type": "code",
   "execution_count": 7,
   "metadata": {},
   "outputs": [
    {
     "ename": "SyntaxError",
     "evalue": "invalid syntax (3136643634.py, line 1)",
     "output_type": "error",
     "traceback": [
      "\u001b[0;36m  Cell \u001b[0;32mIn[7], line 1\u001b[0;36m\u001b[0m\n\u001b[0;31m    pip3 install numpy==1.23.5\u001b[0m\n\u001b[0m         ^\u001b[0m\n\u001b[0;31mSyntaxError\u001b[0m\u001b[0;31m:\u001b[0m invalid syntax\n"
     ]
    }
   ],
   "source": [
    "pip install numpy==1.23.5\n",
    "\n"
   ]
  },
  {
   "cell_type": "code",
   "execution_count": 9,
   "metadata": {},
   "outputs": [
    {
     "ename": "ImportError",
     "evalue": "Numba needs NumPy 1.22 or greater. Got NumPy 1.21.",
     "output_type": "error",
     "traceback": [
      "\u001b[0;31m---------------------------------------------------------------------------\u001b[0m",
      "\u001b[0;31mImportError\u001b[0m                               Traceback (most recent call last)",
      "Cell \u001b[0;32mIn[9], line 35\u001b[0m\n\u001b[1;32m     32\u001b[0m labels \u001b[39m=\u001b[39m [\u001b[39m'\u001b[39m\u001b[39mdog\u001b[39m\u001b[39m'\u001b[39m, \u001b[39m'\u001b[39m\u001b[39mcat\u001b[39m\u001b[39m'\u001b[39m, \u001b[39m'\u001b[39m\u001b[39mbird\u001b[39m\u001b[39m'\u001b[39m]\n\u001b[1;32m     34\u001b[0m \u001b[39m# Load data\u001b[39;00m\n\u001b[0;32m---> 35\u001b[0m X, y \u001b[39m=\u001b[39m load_data_from_folders(base_folder, labels)\n\u001b[1;32m     37\u001b[0m \u001b[39m# Encode labels to integers\u001b[39;00m\n\u001b[1;32m     38\u001b[0m \u001b[39mfrom\u001b[39;00m\u001b[39m \u001b[39m\u001b[39msklearn\u001b[39;00m\u001b[39m.\u001b[39;00m\u001b[39mpreprocessing\u001b[39;00m\u001b[39m \u001b[39m\u001b[39mimport\u001b[39;00m LabelEncoder\n",
      "Cell \u001b[0;32mIn[9], line 25\u001b[0m, in \u001b[0;36mload_data_from_folders\u001b[0;34m(base_folder, labels)\u001b[0m\n\u001b[1;32m     23\u001b[0m \u001b[39mif\u001b[39;00m filename\u001b[39m.\u001b[39mendswith(\u001b[39m\"\u001b[39m\u001b[39m.wav\u001b[39m\u001b[39m\"\u001b[39m):\n\u001b[1;32m     24\u001b[0m     file_path \u001b[39m=\u001b[39m os\u001b[39m.\u001b[39mpath\u001b[39m.\u001b[39mjoin(folder, filename)\n\u001b[0;32m---> 25\u001b[0m     features \u001b[39m=\u001b[39m extract_features_from_file(file_path)\n\u001b[1;32m     26\u001b[0m     data\u001b[39m.\u001b[39mappend(features)\n\u001b[1;32m     27\u001b[0m     target\u001b[39m.\u001b[39mappend(label)\n",
      "Cell \u001b[0;32mIn[9], line 12\u001b[0m, in \u001b[0;36mextract_features_from_file\u001b[0;34m(file_path)\u001b[0m\n\u001b[1;32m     11\u001b[0m \u001b[39mdef\u001b[39;00m\u001b[39m \u001b[39m\u001b[39mextract_features_from_file\u001b[39m(file_path):\n\u001b[0;32m---> 12\u001b[0m     y, sr \u001b[39m=\u001b[39m librosa\u001b[39m.\u001b[39;49mload(file_path, sr\u001b[39m=\u001b[39m\u001b[39mNone\u001b[39;00m)\n\u001b[1;32m     13\u001b[0m     mfcc \u001b[39m=\u001b[39m librosa\u001b[39m.\u001b[39mfeature\u001b[39m.\u001b[39mmfcc(y\u001b[39m=\u001b[39my, sr\u001b[39m=\u001b[39msr, n_mfcc\u001b[39m=\u001b[39m\u001b[39m13\u001b[39m)\n\u001b[1;32m     14\u001b[0m     \u001b[39mreturn\u001b[39;00m np\u001b[39m.\u001b[39mmean(mfcc\u001b[39m.\u001b[39mT, axis\u001b[39m=\u001b[39m\u001b[39m0\u001b[39m)\n",
      "File \u001b[0;32m~/Library/Python/3.9/lib/python/site-packages/lazy_loader/__init__.py:83\u001b[0m, in \u001b[0;36mattach.<locals>.__getattr__\u001b[0;34m(name)\u001b[0m\n\u001b[1;32m     81\u001b[0m submod_path \u001b[39m=\u001b[39m \u001b[39mf\u001b[39m\u001b[39m\"\u001b[39m\u001b[39m{\u001b[39;00mpackage_name\u001b[39m}\u001b[39;00m\u001b[39m.\u001b[39m\u001b[39m{\u001b[39;00mattr_to_modules[name]\u001b[39m}\u001b[39;00m\u001b[39m\"\u001b[39m\n\u001b[1;32m     82\u001b[0m submod \u001b[39m=\u001b[39m importlib\u001b[39m.\u001b[39mimport_module(submod_path)\n\u001b[0;32m---> 83\u001b[0m attr \u001b[39m=\u001b[39m \u001b[39mgetattr\u001b[39;49m(submod, name)\n\u001b[1;32m     85\u001b[0m \u001b[39m# If the attribute lives in a file (module) with the same\u001b[39;00m\n\u001b[1;32m     86\u001b[0m \u001b[39m# name as the attribute, ensure that the attribute and *not*\u001b[39;00m\n\u001b[1;32m     87\u001b[0m \u001b[39m# the module is accessible on the package.\u001b[39;00m\n\u001b[1;32m     88\u001b[0m \u001b[39mif\u001b[39;00m name \u001b[39m==\u001b[39m attr_to_modules[name]:\n",
      "File \u001b[0;32m~/Library/Python/3.9/lib/python/site-packages/lazy_loader/__init__.py:82\u001b[0m, in \u001b[0;36mattach.<locals>.__getattr__\u001b[0;34m(name)\u001b[0m\n\u001b[1;32m     80\u001b[0m \u001b[39melif\u001b[39;00m name \u001b[39min\u001b[39;00m attr_to_modules:\n\u001b[1;32m     81\u001b[0m     submod_path \u001b[39m=\u001b[39m \u001b[39mf\u001b[39m\u001b[39m\"\u001b[39m\u001b[39m{\u001b[39;00mpackage_name\u001b[39m}\u001b[39;00m\u001b[39m.\u001b[39m\u001b[39m{\u001b[39;00mattr_to_modules[name]\u001b[39m}\u001b[39;00m\u001b[39m\"\u001b[39m\n\u001b[0;32m---> 82\u001b[0m     submod \u001b[39m=\u001b[39m importlib\u001b[39m.\u001b[39;49mimport_module(submod_path)\n\u001b[1;32m     83\u001b[0m     attr \u001b[39m=\u001b[39m \u001b[39mgetattr\u001b[39m(submod, name)\n\u001b[1;32m     85\u001b[0m     \u001b[39m# If the attribute lives in a file (module) with the same\u001b[39;00m\n\u001b[1;32m     86\u001b[0m     \u001b[39m# name as the attribute, ensure that the attribute and *not*\u001b[39;00m\n\u001b[1;32m     87\u001b[0m     \u001b[39m# the module is accessible on the package.\u001b[39;00m\n",
      "File \u001b[0;32m/Library/Developer/CommandLineTools/Library/Frameworks/Python3.framework/Versions/3.9/lib/python3.9/importlib/__init__.py:127\u001b[0m, in \u001b[0;36mimport_module\u001b[0;34m(name, package)\u001b[0m\n\u001b[1;32m    125\u001b[0m             \u001b[39mbreak\u001b[39;00m\n\u001b[1;32m    126\u001b[0m         level \u001b[39m+\u001b[39m\u001b[39m=\u001b[39m \u001b[39m1\u001b[39m\n\u001b[0;32m--> 127\u001b[0m \u001b[39mreturn\u001b[39;00m _bootstrap\u001b[39m.\u001b[39;49m_gcd_import(name[level:], package, level)\n",
      "File \u001b[0;32m<frozen importlib._bootstrap>:1030\u001b[0m, in \u001b[0;36m_gcd_import\u001b[0;34m(name, package, level)\u001b[0m\n",
      "File \u001b[0;32m<frozen importlib._bootstrap>:1007\u001b[0m, in \u001b[0;36m_find_and_load\u001b[0;34m(name, import_)\u001b[0m\n",
      "File \u001b[0;32m<frozen importlib._bootstrap>:986\u001b[0m, in \u001b[0;36m_find_and_load_unlocked\u001b[0;34m(name, import_)\u001b[0m\n",
      "File \u001b[0;32m<frozen importlib._bootstrap>:680\u001b[0m, in \u001b[0;36m_load_unlocked\u001b[0;34m(spec)\u001b[0m\n",
      "File \u001b[0;32m<frozen importlib._bootstrap_external>:850\u001b[0m, in \u001b[0;36mexec_module\u001b[0;34m(self, module)\u001b[0m\n",
      "File \u001b[0;32m<frozen importlib._bootstrap>:228\u001b[0m, in \u001b[0;36m_call_with_frames_removed\u001b[0;34m(f, *args, **kwds)\u001b[0m\n",
      "File \u001b[0;32m~/Library/Python/3.9/lib/python/site-packages/librosa/core/audio.py:18\u001b[0m\n\u001b[1;32m     15\u001b[0m \u001b[39mimport\u001b[39;00m\u001b[39m \u001b[39m\u001b[39msoxr\u001b[39;00m\n\u001b[1;32m     16\u001b[0m \u001b[39mimport\u001b[39;00m\u001b[39m \u001b[39m\u001b[39mlazy_loader\u001b[39;00m\u001b[39m \u001b[39m\u001b[39mas\u001b[39;00m\u001b[39m \u001b[39m\u001b[39mlazy\u001b[39;00m\n\u001b[0;32m---> 18\u001b[0m \u001b[39mfrom\u001b[39;00m\u001b[39m \u001b[39m\u001b[39mnumba\u001b[39;00m\u001b[39m \u001b[39m\u001b[39mimport\u001b[39;00m jit, stencil, guvectorize\n\u001b[1;32m     19\u001b[0m \u001b[39mfrom\u001b[39;00m\u001b[39m \u001b[39m\u001b[39m.\u001b[39;00m\u001b[39mfft\u001b[39;00m\u001b[39m \u001b[39m\u001b[39mimport\u001b[39;00m get_fftlib\n\u001b[1;32m     20\u001b[0m \u001b[39mfrom\u001b[39;00m\u001b[39m \u001b[39m\u001b[39m.\u001b[39;00m\u001b[39mconvert\u001b[39;00m\u001b[39m \u001b[39m\u001b[39mimport\u001b[39;00m frames_to_samples, time_to_samples\n",
      "File \u001b[0;32m~/Library/Python/3.9/lib/python/site-packages/numba/__init__.py:59\u001b[0m\n\u001b[1;32m     54\u001b[0m             msg \u001b[39m=\u001b[39m (\u001b[39m\"\u001b[39m\u001b[39mNumba requires SciPy version 1.0 or greater. Got SciPy \u001b[39m\u001b[39m\"\u001b[39m\n\u001b[1;32m     55\u001b[0m                    \u001b[39mf\u001b[39m\u001b[39m\"\u001b[39m\u001b[39m{\u001b[39;00mscipy\u001b[39m.\u001b[39m__version__\u001b[39m}\u001b[39;00m\u001b[39m.\u001b[39m\u001b[39m\"\u001b[39m)\n\u001b[1;32m     56\u001b[0m             \u001b[39mraise\u001b[39;00m \u001b[39mImportError\u001b[39;00m(msg)\n\u001b[0;32m---> 59\u001b[0m _ensure_critical_deps()\n\u001b[1;32m     60\u001b[0m \u001b[39m# END DO NOT MOVE\u001b[39;00m\n\u001b[1;32m     61\u001b[0m \u001b[39m# ---------------------- WARNING WARNING WARNING ----------------------------\u001b[39;00m\n\u001b[1;32m     64\u001b[0m \u001b[39mfrom\u001b[39;00m\u001b[39m \u001b[39m\u001b[39m.\u001b[39;00m\u001b[39m_version\u001b[39;00m\u001b[39m \u001b[39m\u001b[39mimport\u001b[39;00m get_versions\n",
      "File \u001b[0;32m~/Library/Python/3.9/lib/python/site-packages/numba/__init__.py:40\u001b[0m, in \u001b[0;36m_ensure_critical_deps\u001b[0;34m()\u001b[0m\n\u001b[1;32m     37\u001b[0m \u001b[39mif\u001b[39;00m numpy_version \u001b[39m<\u001b[39m (\u001b[39m1\u001b[39m, \u001b[39m22\u001b[39m):\n\u001b[1;32m     38\u001b[0m     msg \u001b[39m=\u001b[39m (\u001b[39mf\u001b[39m\u001b[39m\"\u001b[39m\u001b[39mNumba needs NumPy 1.22 or greater. Got NumPy \u001b[39m\u001b[39m\"\u001b[39m\n\u001b[1;32m     39\u001b[0m            \u001b[39mf\u001b[39m\u001b[39m\"\u001b[39m\u001b[39m{\u001b[39;00mnumpy_version[\u001b[39m0\u001b[39m]\u001b[39m}\u001b[39;00m\u001b[39m.\u001b[39m\u001b[39m{\u001b[39;00mnumpy_version[\u001b[39m1\u001b[39m]\u001b[39m}\u001b[39;00m\u001b[39m.\u001b[39m\u001b[39m\"\u001b[39m)\n\u001b[0;32m---> 40\u001b[0m     \u001b[39mraise\u001b[39;00m \u001b[39mImportError\u001b[39;00m(msg)\n\u001b[1;32m     42\u001b[0m \u001b[39mif\u001b[39;00m numpy_version \u001b[39m>\u001b[39m (\u001b[39m2\u001b[39m, \u001b[39m0\u001b[39m):\n\u001b[1;32m     43\u001b[0m     msg \u001b[39m=\u001b[39m (\u001b[39mf\u001b[39m\u001b[39m\"\u001b[39m\u001b[39mNumba needs NumPy 2.0 or less. Got NumPy \u001b[39m\u001b[39m\"\u001b[39m\n\u001b[1;32m     44\u001b[0m            \u001b[39mf\u001b[39m\u001b[39m\"\u001b[39m\u001b[39m{\u001b[39;00mnumpy_version[\u001b[39m0\u001b[39m]\u001b[39m}\u001b[39;00m\u001b[39m.\u001b[39m\u001b[39m{\u001b[39;00mnumpy_version[\u001b[39m1\u001b[39m]\u001b[39m}\u001b[39;00m\u001b[39m.\u001b[39m\u001b[39m\"\u001b[39m)\n",
      "\u001b[0;31mImportError\u001b[0m: Numba needs NumPy 1.22 or greater. Got NumPy 1.21."
     ]
    }
   ],
   "source": [
    "import os\n",
    "import librosa\n",
    "import numpy as np\n",
    "from sklearn.model_selection import train_test_split\n",
    "from sklearn.preprocessing import StandardScaler\n",
    "from sklearn.neighbors import KNeighborsClassifier\n",
    "from sklearn.metrics import accuracy_score\n",
    "from sklearn.model_selection import GridSearchCV\n",
    "\n",
    "# Feature extraction\n",
    "def extract_features_from_file(file_path):\n",
    "    y, sr = librosa.load(file_path, sr=None)\n",
    "    mfcc = librosa.feature.mfcc(y=y, sr=sr, n_mfcc=13)\n",
    "    return np.mean(mfcc.T, axis=0)  # Mean across time axis\n",
    "\n",
    "# Load data from folder\n",
    "def load_data_from_folders(base_folder, labels):\n",
    "    data = []\n",
    "    target = []\n",
    "    for label in labels:\n",
    "        folder = os.path.join(base_folder, label)\n",
    "        for filename in os.listdir(folder):\n",
    "            if filename.endswith(\".wav\"):\n",
    "                file_path = os.path.join(folder, filename)\n",
    "                features = extract_features_from_file(file_path)\n",
    "                data.append(features)\n",
    "                target.append(label)\n",
    "    return np.array(data), np.array(target)\n",
    "\n",
    "# Set paths and labels\n",
    "base_folder = '/Users/suarezcruzrosy/Downloads/animals'\n",
    "labels = ['dog', 'cat', 'bird']\n",
    "\n",
    "# Load data\n",
    "X, y = load_data_from_folders(base_folder, labels)\n",
    "\n",
    "# Encode labels to integers\n",
    "from sklearn.preprocessing import LabelEncoder\n",
    "label_encoder = LabelEncoder()\n",
    "y_encoded = label_encoder.fit_transform(y)\n",
    "\n",
    "# Standardize features\n",
    "scaler = StandardScaler()\n",
    "X_scaled = scaler.fit_transform(X)\n",
    "\n",
    "# Split data\n",
    "X_train, X_test, y_train, y_test = train_test_split(X_scaled, y_encoded, test_size=0.2, random_state=42)\n",
    "\n",
    "# KNN with GridSearchCV\n",
    "param_grid = {\n",
    "    'n_neighbors': [3, 5, 7, 10],\n",
    "    'weights': ['uniform', 'distance'],\n",
    "    'metric': ['euclidean', 'manhattan']\n",
    "}\n",
    "grid_search = GridSearchCV(KNeighborsClassifier(), param_grid, cv=5, scoring='accuracy')\n",
    "grid_search.fit(X_train, y_train)\n",
    "\n",
    "# Best Parameters\n",
    "print(\"Best Parameters:\", grid_search.best_params_)\n",
    "\n",
    "# Model Evaluation\n",
    "y_pred = grid_search.predict(X_test)\n",
    "accuracy = accuracy_score(y_test, y_pred)\n",
    "print(f\"Test Accuracy: {accuracy}\")\n"
   ]
  }
 ],
 "metadata": {
  "kernelspec": {
   "display_name": "Python 3",
   "language": "python",
   "name": "python3"
  },
  "language_info": {
   "codemirror_mode": {
    "name": "ipython",
    "version": 3
   },
   "file_extension": ".py",
   "mimetype": "text/x-python",
   "name": "python",
   "nbconvert_exporter": "python",
   "pygments_lexer": "ipython3",
   "version": "3.9.6"
  },
  "orig_nbformat": 4
 },
 "nbformat": 4,
 "nbformat_minor": 2
}
